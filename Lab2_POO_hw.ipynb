{
 "cells": [
  {
   "cell_type": "code",
   "execution_count": 1,
   "id": "859cfb04",
   "metadata": {},
   "outputs": [],
   "source": [
    "from datetime import date"
   ]
  },
  {
   "cell_type": "code",
   "execution_count": 54,
   "id": "3e03e4b4",
   "metadata": {},
   "outputs": [],
   "source": [
    "class Om:\n",
    "    def __init__(self,nume=\"Unknown\",prenume=\"Unknown\",data_nasterii=date.today()):\n",
    "        self.__nume = nume\n",
    "        self.__prenume = prenume\n",
    "        self.__data_nasterii = data_nasterii\n",
    "        \n",
    "    def calculeaza_varsta(self):\n",
    "        today = date.today()\n",
    "        return today.year - self.__data_nasterii.year - ((today.month, today.day) < (self.__data_nasterii.month, self.__data_nasterii.day))\n",
    "    \n",
    "    def print_om_data(self):\n",
    "        born = self.__data_nasterii.strftime(\"%d/%m/%Y\")\n",
    "        print(f\"Nume: {self.__nume} nascut {born}\")"
   ]
  },
  {
   "cell_type": "code",
   "execution_count": 55,
   "id": "0a4537d7",
   "metadata": {},
   "outputs": [],
   "source": [
    "class Elev(Om):\n",
    "    def __init__(self,nume=\"Unknown\",prenume=\"Unknown\",data_nasterii=date.today(),clasa=0,nota_medie=0):\n",
    "        super().__init__(nume,prenume,data_nasterii)\n",
    "        self.__clasa = clasa\n",
    "        self.__nota_medie = nota_medie\n",
    "        \n",
    "    def este_eminent(self):\n",
    "        if self.__nota_medie >= 9:\n",
    "            print(\"Este eminent\")\n",
    "        else:\n",
    "            print(\"Nu este eminent\")\n",
    "            \n",
    "    def print_elev_data(self):\n",
    "        super().print_om_data()\n",
    "        print(f\"Clasa: {self.__clasa}\\nNota: {self.__nota_medie}\")"
   ]
  },
  {
   "cell_type": "code",
   "execution_count": 56,
   "id": "bcb507eb",
   "metadata": {},
   "outputs": [],
   "source": [
    "class Profesor(Om):\n",
    "    def __init__(self,nume=\"Unknown\",prenume=\"Unknown\",data_nasterii=date.today(),discipline=[],salariu=0):\n",
    "        super().__init__(nume,prenume,data_nasterii)\n",
    "        self.__discipline = discipline\n",
    "        self.__salariu = salariu\n",
    "        \n",
    "    def salariu_anual(self):\n",
    "        return self.__salariu * 12\n",
    "    \n",
    "    def numar_discipline(self):\n",
    "        return len(self.__discipline)\n",
    "    \n",
    "    def print_profesor_data(self):\n",
    "        super().print_om_data()\n",
    "        print(\"Discipline:\", ', '.join(self.__discipline))\n",
    "        print(f\"Salariu: {self.__salariu}\")"
   ]
  },
  {
   "cell_type": "code",
   "execution_count": 10,
   "id": "23d56dcf",
   "metadata": {},
   "outputs": [],
   "source": [
    "from datetime import datetime"
   ]
  },
  {
   "cell_type": "code",
   "execution_count": 57,
   "id": "55deb195",
   "metadata": {},
   "outputs": [
    {
     "name": "stdout",
     "output_type": "stream",
     "text": [
      "Nume: Ana nascut 16/09/2019\n"
     ]
    },
    {
     "data": {
      "text/plain": [
       "1"
      ]
     },
     "execution_count": 57,
     "metadata": {},
     "output_type": "execute_result"
    }
   ],
   "source": [
    "un_om = Om('Ana','Banana',datetime.strptime('16/09/2019', '%d/%m/%Y'))\n",
    "un_om.print_om_data()\n",
    "un_om.calculeaza_varsta()"
   ]
  },
  {
   "cell_type": "code",
   "execution_count": 62,
   "id": "adac4c3c",
   "metadata": {},
   "outputs": [
    {
     "name": "stdout",
     "output_type": "stream",
     "text": [
      "Nume: Ana nascut 16/04/2005\n",
      "Clasa: 10\n",
      "Nota: 8\n",
      "Nu este eminent\n"
     ]
    },
    {
     "data": {
      "text/plain": [
       "16"
      ]
     },
     "execution_count": 62,
     "metadata": {},
     "output_type": "execute_result"
    }
   ],
   "source": [
    "un_elev = Elev('Ana','Banana',datetime.strptime('16/04/2005', '%d/%m/%Y'),10,8)\n",
    "un_elev.print_elev_data()\n",
    "un_elev.este_eminent()\n",
    "un_elev.calculeaza_varsta()"
   ]
  },
  {
   "cell_type": "code",
   "execution_count": 60,
   "id": "831b1224",
   "metadata": {},
   "outputs": [
    {
     "name": "stdout",
     "output_type": "stream",
     "text": [
      "Nume: Ana nascut 16/09/1988\n",
      "Discipline: Chimie, Biologie\n",
      "Salariu: 2000\n",
      "Salariu anual: 24000\n",
      "Numar discipline:  2\n"
     ]
    },
    {
     "data": {
      "text/plain": [
       "32"
      ]
     },
     "execution_count": 60,
     "metadata": {},
     "output_type": "execute_result"
    }
   ],
   "source": [
    "un_profesor = Profesor('Ana','Banana',datetime.strptime('16/09/1988', '%d/%m/%Y'), ['Chimie','Biologie'], 2000)\n",
    "un_profesor.print_profesor_data()\n",
    "print(\"Salariu anual:\", un_profesor.salariu_anual())\n",
    "print(\"Numar discipline: \", un_profesor.numar_discipline())\n",
    "un_profesor.calculeaza_varsta()"
   ]
  }
 ],
 "metadata": {
  "kernelspec": {
   "display_name": "Python 3",
   "language": "python",
   "name": "python3"
  },
  "language_info": {
   "codemirror_mode": {
    "name": "ipython",
    "version": 3
   },
   "file_extension": ".py",
   "mimetype": "text/x-python",
   "name": "python",
   "nbconvert_exporter": "python",
   "pygments_lexer": "ipython3",
   "version": "3.7.1"
  }
 },
 "nbformat": 4,
 "nbformat_minor": 5
}
